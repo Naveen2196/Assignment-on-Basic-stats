{
 "cells": [
  {
   "cell_type": "code",
   "execution_count": 1,
   "id": "cb33a4a8",
   "metadata": {},
   "outputs": [],
   "source": [
    "import pandas as pd\n",
    "import matplotlib.pyplot as plt\n",
    "import numpy as np"
   ]
  },
  {
   "cell_type": "code",
   "execution_count": 3,
   "id": "7a29fac1",
   "metadata": {},
   "outputs": [],
   "source": [
    "dt = pd.read_csv(\"Q7.csv\")\n",
    "dd = dt.drop('Unnamed: 0', axis=1)"
   ]
  },
  {
   "cell_type": "code",
   "execution_count": 4,
   "id": "be529d66",
   "metadata": {},
   "outputs": [
    {
     "name": "stdout",
     "output_type": "stream",
     "text": [
      "    Points  Score  Weigh\n",
      "0     3.90  2.620  16.46\n",
      "1     3.90  2.875  17.02\n",
      "2     3.85  2.320  18.61\n",
      "3     3.08  3.215  19.44\n",
      "4     3.15  3.440  17.02\n",
      "5     2.76  3.460  20.22\n",
      "6     3.21  3.570  15.84\n",
      "7     3.69  3.190  20.00\n",
      "8     3.92  3.150  22.90\n",
      "9     3.92  3.440  18.30\n",
      "10    3.92  3.440  18.90\n",
      "11    3.07  4.070  17.40\n",
      "12    3.07  3.730  17.60\n",
      "13    3.07  3.780  18.00\n",
      "14    2.93  5.250  17.98\n",
      "15    3.00  5.424  17.82\n",
      "16    3.23  5.345  17.42\n",
      "17    4.08  2.200  19.47\n",
      "18    4.93  1.615  18.52\n",
      "19    4.22  1.835  19.90\n",
      "20    3.70  2.465  20.01\n",
      "21    2.76  3.520  16.87\n",
      "22    3.15  3.435  17.30\n",
      "23    3.73  3.840  15.41\n",
      "24    3.08  3.845  17.05\n",
      "25    4.08  1.935  18.90\n",
      "26    4.43  2.140  16.70\n",
      "27    3.77  1.513  16.90\n",
      "28    4.22  3.170  14.50\n",
      "29    3.62  2.770  15.50\n",
      "30    3.54  3.570  14.60\n",
      "31    4.11  2.780  18.60\n"
     ]
    }
   ],
   "source": [
    "print(dd)"
   ]
  },
  {
   "cell_type": "code",
   "execution_count": 5,
   "id": "6c21c78f",
   "metadata": {},
   "outputs": [
    {
     "name": "stderr",
     "output_type": "stream",
     "text": [
      "C:\\Anaconda\\Lib\\site-packages\\numpy\\core\\fromnumeric.py:3462: FutureWarning: In a future version, DataFrame.mean(axis=None) will return a scalar mean over the entire DataFrame. To retain the old behavior, use 'frame.mean(axis=0)' or just 'frame.mean()'\n",
      "  return mean(axis=axis, dtype=dtype, out=out, **kwargs)\n"
     ]
    },
    {
     "data": {
      "text/plain": [
       "Points     3.596563\n",
       "Score      3.217250\n",
       "Weigh     17.848750\n",
       "dtype: float64"
      ]
     },
     "execution_count": 5,
     "metadata": {},
     "output_type": "execute_result"
    }
   ],
   "source": [
    "np.mean(dd)"
   ]
  },
  {
   "cell_type": "code",
   "execution_count": 6,
   "id": "eb69f785",
   "metadata": {},
   "outputs": [
    {
     "data": {
      "text/plain": [
       "Points     3.695\n",
       "Score      3.325\n",
       "Weigh     17.710\n",
       "dtype: float64"
      ]
     },
     "execution_count": 6,
     "metadata": {},
     "output_type": "execute_result"
    }
   ],
   "source": [
    "dd.median()"
   ]
  },
  {
   "cell_type": "code",
   "execution_count": 7,
   "id": "52a360d9",
   "metadata": {},
   "outputs": [
    {
     "data": {
      "text/plain": [
       "3.6950000000000003"
      ]
     },
     "execution_count": 7,
     "metadata": {},
     "output_type": "execute_result"
    }
   ],
   "source": [
    "np.median(dd['Points'])"
   ]
  },
  {
   "cell_type": "code",
   "execution_count": 8,
   "id": "d30ccf46",
   "metadata": {},
   "outputs": [
    {
     "data": {
      "text/plain": [
       "3.325"
      ]
     },
     "execution_count": 8,
     "metadata": {},
     "output_type": "execute_result"
    }
   ],
   "source": [
    "np.median(dd['Score'])"
   ]
  },
  {
   "cell_type": "code",
   "execution_count": 9,
   "id": "a40dfb3a",
   "metadata": {},
   "outputs": [
    {
     "data": {
      "text/plain": [
       "17.71"
      ]
     },
     "execution_count": 9,
     "metadata": {},
     "output_type": "execute_result"
    }
   ],
   "source": [
    "np.median(dd['Weigh'])"
   ]
  },
  {
   "cell_type": "code",
   "execution_count": 10,
   "id": "56375e11",
   "metadata": {},
   "outputs": [
    {
     "data": {
      "text/html": [
       "<div>\n",
       "<style scoped>\n",
       "    .dataframe tbody tr th:only-of-type {\n",
       "        vertical-align: middle;\n",
       "    }\n",
       "\n",
       "    .dataframe tbody tr th {\n",
       "        vertical-align: top;\n",
       "    }\n",
       "\n",
       "    .dataframe thead th {\n",
       "        text-align: right;\n",
       "    }\n",
       "</style>\n",
       "<table border=\"1\" class=\"dataframe\">\n",
       "  <thead>\n",
       "    <tr style=\"text-align: right;\">\n",
       "      <th></th>\n",
       "      <th>Points</th>\n",
       "      <th>Score</th>\n",
       "      <th>Weigh</th>\n",
       "    </tr>\n",
       "  </thead>\n",
       "  <tbody>\n",
       "    <tr>\n",
       "      <th>0</th>\n",
       "      <td>3.07</td>\n",
       "      <td>3.44</td>\n",
       "      <td>17.02</td>\n",
       "    </tr>\n",
       "    <tr>\n",
       "      <th>1</th>\n",
       "      <td>3.92</td>\n",
       "      <td>NaN</td>\n",
       "      <td>18.90</td>\n",
       "    </tr>\n",
       "  </tbody>\n",
       "</table>\n",
       "</div>"
      ],
      "text/plain": [
       "   Points  Score  Weigh\n",
       "0    3.07   3.44  17.02\n",
       "1    3.92    NaN  18.90"
      ]
     },
     "execution_count": 10,
     "metadata": {},
     "output_type": "execute_result"
    }
   ],
   "source": [
    "dd.mode()"
   ]
  },
  {
   "cell_type": "code",
   "execution_count": 11,
   "id": "36f1643f",
   "metadata": {},
   "outputs": [
    {
     "data": {
      "text/plain": [
       "0    3.07\n",
       "1    3.92\n",
       "Name: Points, dtype: float64"
      ]
     },
     "execution_count": 11,
     "metadata": {},
     "output_type": "execute_result"
    }
   ],
   "source": [
    "dd['Points'].mode()"
   ]
  },
  {
   "cell_type": "code",
   "execution_count": 12,
   "id": "c888c982",
   "metadata": {},
   "outputs": [
    {
     "data": {
      "text/plain": [
       "0    3.44\n",
       "Name: Score, dtype: float64"
      ]
     },
     "execution_count": 12,
     "metadata": {},
     "output_type": "execute_result"
    }
   ],
   "source": [
    "dd['Score'].mode()"
   ]
  },
  {
   "cell_type": "code",
   "execution_count": 13,
   "id": "a4cab1a7",
   "metadata": {},
   "outputs": [
    {
     "data": {
      "text/plain": [
       "0    17.02\n",
       "1    18.90\n",
       "Name: Weigh, dtype: float64"
      ]
     },
     "execution_count": 13,
     "metadata": {},
     "output_type": "execute_result"
    }
   ],
   "source": [
    "dd['Weigh'].mode()"
   ]
  },
  {
   "cell_type": "code",
   "execution_count": 14,
   "id": "cb2a20b5",
   "metadata": {},
   "outputs": [
    {
     "data": {
      "text/plain": [
       "Points    0.276948\n",
       "Score     0.927461\n",
       "Weigh     3.093380\n",
       "dtype: float64"
      ]
     },
     "execution_count": 14,
     "metadata": {},
     "output_type": "execute_result"
    }
   ],
   "source": [
    "dd.var(ddof = 0)"
   ]
  },
  {
   "cell_type": "code",
   "execution_count": 15,
   "id": "ae3fec20",
   "metadata": {},
   "outputs": [
    {
     "data": {
      "text/plain": [
       "Points    0.526258\n",
       "Score     0.963048\n",
       "Weigh     1.758801\n",
       "dtype: float64"
      ]
     },
     "execution_count": 15,
     "metadata": {},
     "output_type": "execute_result"
    }
   ],
   "source": [
    "dd.std(ddof = 0)"
   ]
  },
  {
   "cell_type": "code",
   "execution_count": 16,
   "id": "f391b247",
   "metadata": {},
   "outputs": [
    {
     "data": {
      "text/plain": [
       "Points     4.930\n",
       "Score      5.424\n",
       "Weigh     22.900\n",
       "dtype: float64"
      ]
     },
     "execution_count": 16,
     "metadata": {},
     "output_type": "execute_result"
    }
   ],
   "source": [
    "dd.max()"
   ]
  },
  {
   "cell_type": "code",
   "execution_count": 17,
   "id": "9e05e28f",
   "metadata": {},
   "outputs": [
    {
     "data": {
      "text/plain": [
       "Points     2.760\n",
       "Score      1.513\n",
       "Weigh     14.500\n",
       "dtype: float64"
      ]
     },
     "execution_count": 17,
     "metadata": {},
     "output_type": "execute_result"
    }
   ],
   "source": [
    "dd.min()"
   ]
  },
  {
   "cell_type": "code",
   "execution_count": 18,
   "id": "88e5d9ec",
   "metadata": {},
   "outputs": [
    {
     "data": {
      "text/plain": [
       "Points    2.170\n",
       "Score     3.911\n",
       "Weigh     8.400\n",
       "dtype: float64"
      ]
     },
     "execution_count": 18,
     "metadata": {},
     "output_type": "execute_result"
    }
   ],
   "source": [
    "(dd.max()) - (dd.min())"
   ]
  },
  {
   "cell_type": "code",
   "execution_count": 19,
   "id": "aafe4e25",
   "metadata": {},
   "outputs": [
    {
     "data": {
      "text/plain": [
       "145.33333333333334"
      ]
     },
     "execution_count": 19,
     "metadata": {},
     "output_type": "execute_result"
    }
   ],
   "source": [
    "np.mean((108, 110, 123, 134, 135, 145, 167, 187, 199))"
   ]
  },
  {
   "cell_type": "markdown",
   "id": "bdf4e008",
   "metadata": {},
   "source": [
    "# Q9_a"
   ]
  },
  {
   "cell_type": "code",
   "execution_count": 20,
   "id": "e058a566",
   "metadata": {},
   "outputs": [
    {
     "data": {
      "text/html": [
       "<div>\n",
       "<style scoped>\n",
       "    .dataframe tbody tr th:only-of-type {\n",
       "        vertical-align: middle;\n",
       "    }\n",
       "\n",
       "    .dataframe tbody tr th {\n",
       "        vertical-align: top;\n",
       "    }\n",
       "\n",
       "    .dataframe thead th {\n",
       "        text-align: right;\n",
       "    }\n",
       "</style>\n",
       "<table border=\"1\" class=\"dataframe\">\n",
       "  <thead>\n",
       "    <tr style=\"text-align: right;\">\n",
       "      <th></th>\n",
       "      <th>speed</th>\n",
       "      <th>dist</th>\n",
       "    </tr>\n",
       "  </thead>\n",
       "  <tbody>\n",
       "    <tr>\n",
       "      <th>0</th>\n",
       "      <td>4</td>\n",
       "      <td>2</td>\n",
       "    </tr>\n",
       "    <tr>\n",
       "      <th>1</th>\n",
       "      <td>4</td>\n",
       "      <td>10</td>\n",
       "    </tr>\n",
       "    <tr>\n",
       "      <th>2</th>\n",
       "      <td>7</td>\n",
       "      <td>4</td>\n",
       "    </tr>\n",
       "    <tr>\n",
       "      <th>3</th>\n",
       "      <td>7</td>\n",
       "      <td>22</td>\n",
       "    </tr>\n",
       "    <tr>\n",
       "      <th>4</th>\n",
       "      <td>8</td>\n",
       "      <td>16</td>\n",
       "    </tr>\n",
       "    <tr>\n",
       "      <th>5</th>\n",
       "      <td>9</td>\n",
       "      <td>10</td>\n",
       "    </tr>\n",
       "    <tr>\n",
       "      <th>6</th>\n",
       "      <td>10</td>\n",
       "      <td>18</td>\n",
       "    </tr>\n",
       "    <tr>\n",
       "      <th>7</th>\n",
       "      <td>10</td>\n",
       "      <td>26</td>\n",
       "    </tr>\n",
       "    <tr>\n",
       "      <th>8</th>\n",
       "      <td>10</td>\n",
       "      <td>34</td>\n",
       "    </tr>\n",
       "    <tr>\n",
       "      <th>9</th>\n",
       "      <td>11</td>\n",
       "      <td>17</td>\n",
       "    </tr>\n",
       "    <tr>\n",
       "      <th>10</th>\n",
       "      <td>11</td>\n",
       "      <td>28</td>\n",
       "    </tr>\n",
       "    <tr>\n",
       "      <th>11</th>\n",
       "      <td>12</td>\n",
       "      <td>14</td>\n",
       "    </tr>\n",
       "    <tr>\n",
       "      <th>12</th>\n",
       "      <td>12</td>\n",
       "      <td>20</td>\n",
       "    </tr>\n",
       "    <tr>\n",
       "      <th>13</th>\n",
       "      <td>12</td>\n",
       "      <td>24</td>\n",
       "    </tr>\n",
       "    <tr>\n",
       "      <th>14</th>\n",
       "      <td>12</td>\n",
       "      <td>28</td>\n",
       "    </tr>\n",
       "    <tr>\n",
       "      <th>15</th>\n",
       "      <td>13</td>\n",
       "      <td>26</td>\n",
       "    </tr>\n",
       "    <tr>\n",
       "      <th>16</th>\n",
       "      <td>13</td>\n",
       "      <td>34</td>\n",
       "    </tr>\n",
       "    <tr>\n",
       "      <th>17</th>\n",
       "      <td>13</td>\n",
       "      <td>34</td>\n",
       "    </tr>\n",
       "    <tr>\n",
       "      <th>18</th>\n",
       "      <td>13</td>\n",
       "      <td>46</td>\n",
       "    </tr>\n",
       "    <tr>\n",
       "      <th>19</th>\n",
       "      <td>14</td>\n",
       "      <td>26</td>\n",
       "    </tr>\n",
       "    <tr>\n",
       "      <th>20</th>\n",
       "      <td>14</td>\n",
       "      <td>36</td>\n",
       "    </tr>\n",
       "    <tr>\n",
       "      <th>21</th>\n",
       "      <td>14</td>\n",
       "      <td>60</td>\n",
       "    </tr>\n",
       "    <tr>\n",
       "      <th>22</th>\n",
       "      <td>14</td>\n",
       "      <td>80</td>\n",
       "    </tr>\n",
       "    <tr>\n",
       "      <th>23</th>\n",
       "      <td>15</td>\n",
       "      <td>20</td>\n",
       "    </tr>\n",
       "    <tr>\n",
       "      <th>24</th>\n",
       "      <td>15</td>\n",
       "      <td>26</td>\n",
       "    </tr>\n",
       "    <tr>\n",
       "      <th>25</th>\n",
       "      <td>15</td>\n",
       "      <td>54</td>\n",
       "    </tr>\n",
       "    <tr>\n",
       "      <th>26</th>\n",
       "      <td>16</td>\n",
       "      <td>32</td>\n",
       "    </tr>\n",
       "    <tr>\n",
       "      <th>27</th>\n",
       "      <td>16</td>\n",
       "      <td>40</td>\n",
       "    </tr>\n",
       "    <tr>\n",
       "      <th>28</th>\n",
       "      <td>17</td>\n",
       "      <td>32</td>\n",
       "    </tr>\n",
       "    <tr>\n",
       "      <th>29</th>\n",
       "      <td>17</td>\n",
       "      <td>40</td>\n",
       "    </tr>\n",
       "    <tr>\n",
       "      <th>30</th>\n",
       "      <td>17</td>\n",
       "      <td>50</td>\n",
       "    </tr>\n",
       "    <tr>\n",
       "      <th>31</th>\n",
       "      <td>18</td>\n",
       "      <td>42</td>\n",
       "    </tr>\n",
       "    <tr>\n",
       "      <th>32</th>\n",
       "      <td>18</td>\n",
       "      <td>56</td>\n",
       "    </tr>\n",
       "    <tr>\n",
       "      <th>33</th>\n",
       "      <td>18</td>\n",
       "      <td>76</td>\n",
       "    </tr>\n",
       "    <tr>\n",
       "      <th>34</th>\n",
       "      <td>18</td>\n",
       "      <td>84</td>\n",
       "    </tr>\n",
       "    <tr>\n",
       "      <th>35</th>\n",
       "      <td>19</td>\n",
       "      <td>36</td>\n",
       "    </tr>\n",
       "    <tr>\n",
       "      <th>36</th>\n",
       "      <td>19</td>\n",
       "      <td>46</td>\n",
       "    </tr>\n",
       "    <tr>\n",
       "      <th>37</th>\n",
       "      <td>19</td>\n",
       "      <td>68</td>\n",
       "    </tr>\n",
       "    <tr>\n",
       "      <th>38</th>\n",
       "      <td>20</td>\n",
       "      <td>32</td>\n",
       "    </tr>\n",
       "    <tr>\n",
       "      <th>39</th>\n",
       "      <td>20</td>\n",
       "      <td>48</td>\n",
       "    </tr>\n",
       "    <tr>\n",
       "      <th>40</th>\n",
       "      <td>20</td>\n",
       "      <td>52</td>\n",
       "    </tr>\n",
       "    <tr>\n",
       "      <th>41</th>\n",
       "      <td>20</td>\n",
       "      <td>56</td>\n",
       "    </tr>\n",
       "    <tr>\n",
       "      <th>42</th>\n",
       "      <td>20</td>\n",
       "      <td>64</td>\n",
       "    </tr>\n",
       "    <tr>\n",
       "      <th>43</th>\n",
       "      <td>22</td>\n",
       "      <td>66</td>\n",
       "    </tr>\n",
       "    <tr>\n",
       "      <th>44</th>\n",
       "      <td>23</td>\n",
       "      <td>54</td>\n",
       "    </tr>\n",
       "    <tr>\n",
       "      <th>45</th>\n",
       "      <td>24</td>\n",
       "      <td>70</td>\n",
       "    </tr>\n",
       "    <tr>\n",
       "      <th>46</th>\n",
       "      <td>24</td>\n",
       "      <td>92</td>\n",
       "    </tr>\n",
       "    <tr>\n",
       "      <th>47</th>\n",
       "      <td>24</td>\n",
       "      <td>93</td>\n",
       "    </tr>\n",
       "    <tr>\n",
       "      <th>48</th>\n",
       "      <td>24</td>\n",
       "      <td>120</td>\n",
       "    </tr>\n",
       "    <tr>\n",
       "      <th>49</th>\n",
       "      <td>25</td>\n",
       "      <td>85</td>\n",
       "    </tr>\n",
       "  </tbody>\n",
       "</table>\n",
       "</div>"
      ],
      "text/plain": [
       "    speed  dist\n",
       "0       4     2\n",
       "1       4    10\n",
       "2       7     4\n",
       "3       7    22\n",
       "4       8    16\n",
       "5       9    10\n",
       "6      10    18\n",
       "7      10    26\n",
       "8      10    34\n",
       "9      11    17\n",
       "10     11    28\n",
       "11     12    14\n",
       "12     12    20\n",
       "13     12    24\n",
       "14     12    28\n",
       "15     13    26\n",
       "16     13    34\n",
       "17     13    34\n",
       "18     13    46\n",
       "19     14    26\n",
       "20     14    36\n",
       "21     14    60\n",
       "22     14    80\n",
       "23     15    20\n",
       "24     15    26\n",
       "25     15    54\n",
       "26     16    32\n",
       "27     16    40\n",
       "28     17    32\n",
       "29     17    40\n",
       "30     17    50\n",
       "31     18    42\n",
       "32     18    56\n",
       "33     18    76\n",
       "34     18    84\n",
       "35     19    36\n",
       "36     19    46\n",
       "37     19    68\n",
       "38     20    32\n",
       "39     20    48\n",
       "40     20    52\n",
       "41     20    56\n",
       "42     20    64\n",
       "43     22    66\n",
       "44     23    54\n",
       "45     24    70\n",
       "46     24    92\n",
       "47     24    93\n",
       "48     24   120\n",
       "49     25    85"
      ]
     },
     "execution_count": 20,
     "metadata": {},
     "output_type": "execute_result"
    }
   ],
   "source": [
    "qq = pd.read_csv('Q9_a.csv')\n",
    "qq = qq.drop('Index', axis = 1)\n",
    "qq"
   ]
  },
  {
   "cell_type": "code",
   "execution_count": 21,
   "id": "f0c893f8",
   "metadata": {},
   "outputs": [
    {
     "data": {
      "image/png": "[encoded data removed]",
      "text/plain": [
       "<Figure size 640x480 with 1 Axes>"
      ]
     },
     "metadata": {},
     "output_type": "display_data"
    },
    {
     "name": "stdout",
     "output_type": "stream",
     "text": [
      "[-0.11395477  0.78248352], [-0.57714742  0.24801866]\n"
     ]
    }
   ],
   "source": [
    "from scipy.stats import skew,kurtosis\n",
    "skwe = skew(qq)\n",
    "kur = kurtosis(qq)\n",
    "plt.hist(qq, bins=20, density=True, alpha=0.5)\n",
    "plt.title(f'Skewness: {skwe}, Kurtosis: {kur:}')\n",
    "plt.xlabel('Value')\n",
    "plt.ylabel('Frequency')\n",
    "plt.show()\n",
    "print(f'{skwe}, {kur}')"
   ]
  },
  {
   "cell_type": "markdown",
   "id": "c43de114",
   "metadata": {},
   "source": [
    "# Q9_b"
   ]
  },
  {
   "cell_type": "code",
   "execution_count": 23,
   "id": "3a780ab7",
   "metadata": {},
   "outputs": [
    {
     "data": {
      "text/html": [
       "<div>\n",
       "<style scoped>\n",
       "    .dataframe tbody tr th:only-of-type {\n",
       "        vertical-align: middle;\n",
       "    }\n",
       "\n",
       "    .dataframe tbody tr th {\n",
       "        vertical-align: top;\n",
       "    }\n",
       "\n",
       "    .dataframe thead th {\n",
       "        text-align: right;\n",
       "    }\n",
       "</style>\n",
       "<table border=\"1\" class=\"dataframe\">\n",
       "  <thead>\n",
       "    <tr style=\"text-align: right;\">\n",
       "      <th></th>\n",
       "      <th>SP</th>\n",
       "      <th>WT</th>\n",
       "    </tr>\n",
       "  </thead>\n",
       "  <tbody>\n",
       "    <tr>\n",
       "      <th>0</th>\n",
       "      <td>104.185353</td>\n",
       "      <td>28.762059</td>\n",
       "    </tr>\n",
       "    <tr>\n",
       "      <th>1</th>\n",
       "      <td>105.461264</td>\n",
       "      <td>30.466833</td>\n",
       "    </tr>\n",
       "    <tr>\n",
       "      <th>2</th>\n",
       "      <td>105.461264</td>\n",
       "      <td>30.193597</td>\n",
       "    </tr>\n",
       "    <tr>\n",
       "      <th>3</th>\n",
       "      <td>113.461264</td>\n",
       "      <td>30.632114</td>\n",
       "    </tr>\n",
       "    <tr>\n",
       "      <th>4</th>\n",
       "      <td>104.461264</td>\n",
       "      <td>29.889149</td>\n",
       "    </tr>\n",
       "    <tr>\n",
       "      <th>...</th>\n",
       "      <td>...</td>\n",
       "      <td>...</td>\n",
       "    </tr>\n",
       "    <tr>\n",
       "      <th>76</th>\n",
       "      <td>169.598513</td>\n",
       "      <td>16.132947</td>\n",
       "    </tr>\n",
       "    <tr>\n",
       "      <th>77</th>\n",
       "      <td>150.576579</td>\n",
       "      <td>37.923113</td>\n",
       "    </tr>\n",
       "    <tr>\n",
       "      <th>78</th>\n",
       "      <td>151.598513</td>\n",
       "      <td>15.769625</td>\n",
       "    </tr>\n",
       "    <tr>\n",
       "      <th>79</th>\n",
       "      <td>167.944460</td>\n",
       "      <td>39.423099</td>\n",
       "    </tr>\n",
       "    <tr>\n",
       "      <th>80</th>\n",
       "      <td>139.840817</td>\n",
       "      <td>34.948615</td>\n",
       "    </tr>\n",
       "  </tbody>\n",
       "</table>\n",
       "<p>81 rows × 2 columns</p>\n",
       "</div>"
      ],
      "text/plain": [
       "            SP         WT\n",
       "0   104.185353  28.762059\n",
       "1   105.461264  30.466833\n",
       "2   105.461264  30.193597\n",
       "3   113.461264  30.632114\n",
       "4   104.461264  29.889149\n",
       "..         ...        ...\n",
       "76  169.598513  16.132947\n",
       "77  150.576579  37.923113\n",
       "78  151.598513  15.769625\n",
       "79  167.944460  39.423099\n",
       "80  139.840817  34.948615\n",
       "\n",
       "[81 rows x 2 columns]"
      ]
     },
     "execution_count": 23,
     "metadata": {},
     "output_type": "execute_result"
    }
   ],
   "source": [
    "ww = pd.read_csv('Q9_b.csv')\n",
    "ww = ww.drop('Unnamed: 0', axis = 1)\n",
    "ww"
   ]
  },
  {
   "cell_type": "code",
   "execution_count": 24,
   "id": "35f7393a",
   "metadata": {},
   "outputs": [
    {
     "data": {
      "image/png": "[encoded data removed]",
      "text/plain": [
       "<Figure size 640x480 with 1 Axes>"
      ]
     },
     "metadata": {},
     "output_type": "display_data"
    },
    {
     "name": "stdout",
     "output_type": "stream",
     "text": [
      "[ 1.58145368 -0.60330993], [2.72352149 0.81946588]\n"
     ]
    }
   ],
   "source": [
    "from scipy.stats import skew,kurtosis\n",
    "skwe = skew(ww)\n",
    "kur = kurtosis(ww)\n",
    "plt.hist(ww, bins=20, density=True, alpha=0.5)\n",
    "plt.title(f'Skewness: {skwe}, Kurtosis: {kur:}')\n",
    "plt.xlabel('Value')\n",
    "plt.ylabel('Frequency')\n",
    "plt.show()\n",
    "print(f'{skwe}, {kur}')"
   ]
  },
  {
   "cell_type": "code",
   "execution_count": 25,
   "id": "e5168f46",
   "metadata": {},
   "outputs": [
    {
     "data": {
      "text/plain": [
       "41.0"
      ]
     },
     "execution_count": 25,
     "metadata": {},
     "output_type": "execute_result"
    }
   ],
   "source": [
    "gg = ((34,36,36,38,38,39,39,40,40,41,41,41,41,42,42,45,49,56))\n",
    "np.mean(gg)"
   ]
  },
  {
   "cell_type": "code",
   "execution_count": 26,
   "id": "0a05d025",
   "metadata": {},
   "outputs": [
    {
     "data": {
      "text/plain": [
       "40.5"
      ]
     },
     "execution_count": 26,
     "metadata": {},
     "output_type": "execute_result"
    }
   ],
   "source": [
    "np.median(gg)"
   ]
  },
  {
   "cell_type": "code",
   "execution_count": 27,
   "id": "7bc57740",
   "metadata": {},
   "outputs": [
    {
     "data": {
      "text/plain": [
       "24.11111111111111"
      ]
     },
     "execution_count": 27,
     "metadata": {},
     "output_type": "execute_result"
    }
   ],
   "source": [
    "np.var(gg)"
   ]
  },
  {
   "cell_type": "code",
   "execution_count": 28,
   "id": "2ac2b866",
   "metadata": {},
   "outputs": [
    {
     "data": {
      "text/plain": [
       "4.910306620885412"
      ]
     },
     "execution_count": 28,
     "metadata": {},
     "output_type": "execute_result"
    }
   ],
   "source": [
    "np.std(gg)"
   ]
  },
  {
   "cell_type": "code",
   "execution_count": 29,
   "id": "4dce34bb",
   "metadata": {},
   "outputs": [
    {
     "data": {
      "text/plain": [
       "18"
      ]
     },
     "execution_count": 29,
     "metadata": {},
     "output_type": "execute_result"
    }
   ],
   "source": [
    "len(gg)"
   ]
  },
  {
   "cell_type": "markdown",
   "id": "28656eee",
   "metadata": {},
   "source": [
    "# Q20"
   ]
  },
  {
   "cell_type": "code",
   "execution_count": 31,
   "id": "89537736",
   "metadata": {},
   "outputs": [
    {
     "data": {
      "text/plain": [
       "0     53.700681\n",
       "1     50.013401\n",
       "2     50.013401\n",
       "3     45.696322\n",
       "4     50.504232\n",
       "        ...    \n",
       "76    36.900000\n",
       "77    19.197888\n",
       "78    34.000000\n",
       "79    19.833733\n",
       "80    12.101263\n",
       "Name: MPG, Length: 81, dtype: float64"
      ]
     },
     "execution_count": 31,
     "metadata": {},
     "output_type": "execute_result"
    }
   ],
   "source": [
    "cr = abs(pd.read_csv('cars.csv'))\n",
    "cc = cr['MPG']\n",
    "cc"
   ]
  },
  {
   "cell_type": "code",
   "execution_count": 32,
   "id": "fc579649",
   "metadata": {},
   "outputs": [
    {
     "name": "stdout",
     "output_type": "stream",
     "text": [
      "-0.17463433818755686, -0.6477383960245926\n"
     ]
    }
   ],
   "source": [
    "from scipy.stats import skew,kurtosis\n",
    "skwe = skew(cc)\n",
    "kur = kurtosis(cc)\n",
    "print(f'{skwe}, {kur}')"
   ]
  },
  {
   "cell_type": "code",
   "execution_count": 33,
   "id": "e5fe2261",
   "metadata": {},
   "outputs": [
    {
     "name": "stdout",
     "output_type": "stream",
     "text": [
      "P(MPG > 38) = 0.4074\n",
      "P(MPG < 40) = 0.7531\n",
      "P(20 < MPG < 50) = 0.8519\n"
     ]
    }
   ],
   "source": [
    "#Calculate the probability of MPG > 38\n",
    "p1 = (cr['MPG'] > 38).mean()\n",
    "\n",
    "# Calculate the probability of MPG < 40\n",
    "p2 = (cr['MPG'] < 40).mean()\n",
    "\n",
    "# Calculate the probability of 20 < MPG < 50\n",
    "p3 = ((cr['MPG'] > 20) & (cr['MPG'] < 50)).mean()\n",
    "\n",
    "# Print the results\n",
    "print(f'P(MPG > 38) = {p1:.4f}')\n",
    "print(f'P(MPG < 40) = {p2:.4f}')\n",
    "print(f'P(20 < MPG < 50) = {p3:.4f}')"
   ]
  },
  {
   "cell_type": "code",
   "execution_count": 34,
   "id": "8fc23490",
   "metadata": {},
   "outputs": [],
   "source": [
    "import matplotlib.pyplot as plt"
   ]
  },
  {
   "cell_type": "markdown",
   "id": "120ecd4b",
   "metadata": {},
   "source": [
    "# Q21_A"
   ]
  },
  {
   "cell_type": "code",
   "execution_count": 36,
   "id": "33f0cd56",
   "metadata": {},
   "outputs": [
    {
     "data": {
      "text/plain": [
       "<Axes: ylabel='Frequency'>"
      ]
     },
     "execution_count": 36,
     "metadata": {},
     "output_type": "execute_result"
    },
    {
     "data": {
      "image/png": "[encoded data removed]",
      "text/plain": [
       "<Figure size 640x480 with 1 Axes>"
      ]
     },
     "metadata": {},
     "output_type": "display_data"
    }
   ],
   "source": [
    "cc.plot.hist(bins = 8)"
   ]
  },
  {
   "cell_type": "code",
   "execution_count": 37,
   "id": "c2b48095",
   "metadata": {},
   "outputs": [
    {
     "data": {
      "text/plain": [
       "<Axes: >"
      ]
     },
     "execution_count": 37,
     "metadata": {},
     "output_type": "execute_result"
    },
    {
     "data": {
      "image/png": "[encoded data removed]",
      "text/plain": [
       "<Figure size 640x480 with 1 Axes>"
      ]
     },
     "metadata": {},
     "output_type": "display_data"
    }
   ],
   "source": [
    "cc.plot.box()"
   ]
  },
  {
   "cell_type": "code",
   "execution_count": 38,
   "id": "daa98f7d",
   "metadata": {},
   "outputs": [
    {
     "data": {
      "text/plain": [
       "34.42207572802469"
      ]
     },
     "execution_count": 38,
     "metadata": {},
     "output_type": "execute_result"
    }
   ],
   "source": [
    "m = cc.mean()\n",
    "m"
   ]
  },
  {
   "cell_type": "code",
   "execution_count": 39,
   "id": "86e9686f",
   "metadata": {},
   "outputs": [
    {
     "data": {
      "text/plain": [
       "35.15272697"
      ]
     },
     "execution_count": 39,
     "metadata": {},
     "output_type": "execute_result"
    }
   ],
   "source": [
    "sd = cc.median()\n",
    "sd"
   ]
  },
  {
   "cell_type": "code",
   "execution_count": 40,
   "id": "07042258",
   "metadata": {},
   "outputs": [
    {
     "name": "stdout",
     "output_type": "stream",
     "text": [
      "[[ 3.        ]\n",
      " [ 2.4681733 ]\n",
      " [ 2.4681733 ]\n",
      " [ 1.84550901]\n",
      " [ 2.53896718]\n",
      " [ 1.84550901]\n",
      " [ 2.4681733 ]\n",
      " [ 1.99265989]\n",
      " [ 1.99265989]\n",
      " [ 1.35551501]\n",
      " [ 1.69500381]\n",
      " [ 0.93075176]\n",
      " [ 0.93075176]\n",
      " [ 1.69500381]\n",
      " [ 1.85107214]\n",
      " [ 1.69500381]\n",
      " [ 1.42630889]\n",
      " [ 0.93075176]\n",
      " [ 1.42630889]\n",
      " [ 0.86552102]\n",
      " [ 0.79472714]\n",
      " [ 1.43187202]\n",
      " [ 0.78024656]\n",
      " [ 1.09238323]\n",
      " [ 0.78024656]\n",
      " [ 0.79472714]\n",
      " [ 0.79472714]\n",
      " [ 0.79472714]\n",
      " [ 1.52431868]\n",
      " [ 0.36104644]\n",
      " [ 0.94187803]\n",
      " [ 0.94187803]\n",
      " [ 0.4881536 ]\n",
      " [ 0.4881536 ]\n",
      " [ 0.95635862]\n",
      " [ 0.7294964 ]\n",
      " [ 0.7294964 ]\n",
      " [ 0.16870853]\n",
      " [ 0.16870853]\n",
      " [-0.27214436]\n",
      " [ 0.32477687]\n",
      " [ 0.32477687]\n",
      " [ 0.16870853]\n",
      " [ 0.32477687]\n",
      " [ 0.39557075]\n",
      " [ 0.23950241]\n",
      " [ 0.23950241]\n",
      " [ 0.31029629]\n",
      " [-0.27214436]\n",
      " [-0.47179066]\n",
      " [-0.47179066]\n",
      " [-0.47179066]\n",
      " [-0.47179066]\n",
      " [-1.21351775]\n",
      " [-0.87241991]\n",
      " [-0.72761405]\n",
      " [-0.25779998]\n",
      " [-0.47179066]\n",
      " [-0.39938773]\n",
      " [-0.58280819]\n",
      " [-0.80001698]\n",
      " [-1.19595526]\n",
      " [-1.35363265]\n",
      " [-1.35363265]\n",
      " [-1.34076112]\n",
      " [ 1.0311242 ]\n",
      " [-1.41316405]\n",
      " [-1.41316405]\n",
      " [-1.41316405]\n",
      " [-1.6770327 ]\n",
      " [-1.90711303]\n",
      " [-1.39868347]\n",
      " [-1.39868347]\n",
      " [-1.99252279]\n",
      " [-1.99252279]\n",
      " [-2.03918266]\n",
      " [ 0.57679093]\n",
      " [-1.97643405]\n",
      " [ 0.15851585]\n",
      " [-1.88472427]\n",
      " [-3.        ]]\n"
     ]
    }
   ],
   "source": [
    "from sklearn.preprocessing import MinMaxScaler\n",
    "# create a scaler object\n",
    "scaler = MinMaxScaler(feature_range=(-3, 3))\n",
    "\n",
    "# fit and transform the data\n",
    "ct = scaler.fit_transform(cr[['MPG']])\n",
    "print(ct)"
   ]
  },
  {
   "cell_type": "code",
   "execution_count": 41,
   "id": "3aa2788c",
   "metadata": {},
   "outputs": [
    {
     "data": {
      "image/png": "[encoded data removed]",
      "text/plain": [
       "<Figure size 640x480 with 1 Axes>"
      ]
     },
     "metadata": {},
     "output_type": "display_data"
    }
   ],
   "source": [
    "from scipy.stats import norm\n",
    "\n",
    "# x-axis ranges from -3 and 3 with .001 steps\n",
    "# plot normal distribution with mean 0 and standard deviation 1\n",
    "\n",
    "plt.plot(ct, norm.pdf(ct,0, 1))\n",
    "plt.show()"
   ]
  },
  {
   "cell_type": "markdown",
   "id": "6b1c81e3",
   "metadata": {},
   "source": [
    "# Q21_B"
   ]
  },
  {
   "cell_type": "code",
   "execution_count": 43,
   "id": "47daad9d",
   "metadata": {},
   "outputs": [
    {
     "data": {
      "text/html": [
       "<div>\n",
       "<style scoped>\n",
       "    .dataframe tbody tr th:only-of-type {\n",
       "        vertical-align: middle;\n",
       "    }\n",
       "\n",
       "    .dataframe tbody tr th {\n",
       "        vertical-align: top;\n",
       "    }\n",
       "\n",
       "    .dataframe thead th {\n",
       "        text-align: right;\n",
       "    }\n",
       "</style>\n",
       "<table border=\"1\" class=\"dataframe\">\n",
       "  <thead>\n",
       "    <tr style=\"text-align: right;\">\n",
       "      <th></th>\n",
       "      <th>Waist</th>\n",
       "      <th>AT</th>\n",
       "    </tr>\n",
       "  </thead>\n",
       "  <tbody>\n",
       "    <tr>\n",
       "      <th>0</th>\n",
       "      <td>74.75</td>\n",
       "      <td>25.72</td>\n",
       "    </tr>\n",
       "    <tr>\n",
       "      <th>1</th>\n",
       "      <td>72.60</td>\n",
       "      <td>25.89</td>\n",
       "    </tr>\n",
       "    <tr>\n",
       "      <th>2</th>\n",
       "      <td>81.80</td>\n",
       "      <td>42.60</td>\n",
       "    </tr>\n",
       "    <tr>\n",
       "      <th>3</th>\n",
       "      <td>83.95</td>\n",
       "      <td>42.80</td>\n",
       "    </tr>\n",
       "    <tr>\n",
       "      <th>4</th>\n",
       "      <td>74.65</td>\n",
       "      <td>29.84</td>\n",
       "    </tr>\n",
       "    <tr>\n",
       "      <th>...</th>\n",
       "      <td>...</td>\n",
       "      <td>...</td>\n",
       "    </tr>\n",
       "    <tr>\n",
       "      <th>104</th>\n",
       "      <td>100.10</td>\n",
       "      <td>124.00</td>\n",
       "    </tr>\n",
       "    <tr>\n",
       "      <th>105</th>\n",
       "      <td>93.30</td>\n",
       "      <td>62.20</td>\n",
       "    </tr>\n",
       "    <tr>\n",
       "      <th>106</th>\n",
       "      <td>101.80</td>\n",
       "      <td>133.00</td>\n",
       "    </tr>\n",
       "    <tr>\n",
       "      <th>107</th>\n",
       "      <td>107.90</td>\n",
       "      <td>208.00</td>\n",
       "    </tr>\n",
       "    <tr>\n",
       "      <th>108</th>\n",
       "      <td>108.50</td>\n",
       "      <td>208.00</td>\n",
       "    </tr>\n",
       "  </tbody>\n",
       "</table>\n",
       "<p>109 rows × 2 columns</p>\n",
       "</div>"
      ],
      "text/plain": [
       "      Waist      AT\n",
       "0     74.75   25.72\n",
       "1     72.60   25.89\n",
       "2     81.80   42.60\n",
       "3     83.95   42.80\n",
       "4     74.65   29.84\n",
       "..      ...     ...\n",
       "104  100.10  124.00\n",
       "105   93.30   62.20\n",
       "106  101.80  133.00\n",
       "107  107.90  208.00\n",
       "108  108.50  208.00\n",
       "\n",
       "[109 rows x 2 columns]"
      ]
     },
     "execution_count": 43,
     "metadata": {},
     "output_type": "execute_result"
    }
   ],
   "source": [
    "mm = pd.read_csv(\"wc-at.csv\")\n",
    "mm"
   ]
  },
  {
   "cell_type": "code",
   "execution_count": 44,
   "id": "6dbad8b4",
   "metadata": {},
   "outputs": [
    {
     "name": "stdout",
     "output_type": "stream",
     "text": [
      "[0.13220418 0.5767897 ], [-1.10727648 -0.32718849]\n"
     ]
    }
   ],
   "source": [
    "from scipy.stats import skew,kurtosis\n",
    "skwe = skew(mm)\n",
    "kur = kurtosis(mm)\n",
    "print(f'{skwe}, {kur}')"
   ]
  },
  {
   "cell_type": "code",
   "execution_count": 45,
   "id": "0da60cab",
   "metadata": {},
   "outputs": [
    {
     "data": {
      "text/plain": [
       "Waist     91.901835\n",
       "AT       101.894037\n",
       "dtype: float64"
      ]
     },
     "execution_count": 45,
     "metadata": {},
     "output_type": "execute_result"
    }
   ],
   "source": [
    "mm.mean()"
   ]
  },
  {
   "cell_type": "code",
   "execution_count": 46,
   "id": "ed75962c",
   "metadata": {},
   "outputs": [
    {
     "data": {
      "text/plain": [
       "Waist    90.80\n",
       "AT       96.54\n",
       "dtype: float64"
      ]
     },
     "execution_count": 46,
     "metadata": {},
     "output_type": "execute_result"
    }
   ],
   "source": [
    "mm.median()"
   ]
  },
  {
   "cell_type": "code",
   "execution_count": 47,
   "id": "915ae9e2",
   "metadata": {},
   "outputs": [
    {
     "data": {
      "text/plain": [
       "array([[-1.82608696, -2.64530551],\n",
       "       [-2.05043478, -2.64108296],\n",
       "       [-1.09043478, -2.2260308 ],\n",
       "       [-0.86608696, -2.22106309],\n",
       "       [-1.83652174, -2.54297069],\n",
       "       [-2.12869565, -2.74565325],\n",
       "       [-1.18434783, -2.56184799],\n",
       "       [-0.92347826, -2.46497765],\n",
       "       [-3.        , -3.        ],\n",
       "       [-1.98782609, -2.48385494],\n",
       "       [-2.12347826, -2.58072529],\n",
       "       [-1.8       , -2.19473423],\n",
       "       [-1.99826087, -2.33507203],\n",
       "       [-1.3826087 , -2.22901143],\n",
       "       [-1.59130435, -2.51515152],\n",
       "       [-2.44173913, -1.89865872],\n",
       "       [-1.70086957, -2.19672131],\n",
       "       [-1.88869565, -2.45429707],\n",
       "       [-1.92521739, -2.20740189],\n",
       "       [-1.70608696, -2.55613512],\n",
       "       [-1.60695652, -2.3750621 ],\n",
       "       [-1.18434783, -2.28440139],\n",
       "       [-1.28869565, -2.4041232 ],\n",
       "       [-0.31826087, -1.79160457],\n",
       "       [-1.06956522, -2.1455539 ],\n",
       "       [-0.02608696, -1.53551913],\n",
       "       [-0.58956522, -1.21137606],\n",
       "       [-1.22608696, -1.19026329],\n",
       "       [-0.65217391, -1.32463984],\n",
       "       [-1.0173913 , -1.67585693],\n",
       "       [-0.91304348, -1.48186786],\n",
       "       [-0.43304348, -1.06582216],\n",
       "       [-0.15130435, -1.32339791],\n",
       "       [-0.2973913 , -1.2088922 ],\n",
       "       [ 1.0173913 , -0.12965723],\n",
       "       [ 0.23478261, -0.27868852],\n",
       "       [-0.13043478, -0.62642822],\n",
       "       [ 1.12173913, -0.07998013],\n",
       "       [-1.27826087, -1.44560358],\n",
       "       [-1.3826087 , -1.90611028],\n",
       "       [-0.91304348, -1.46770989],\n",
       "       [-1.69565217, -2.02980626],\n",
       "       [-1.22608696, -2.02036761],\n",
       "       [-0.6       ,  0.19324391],\n",
       "       [-0.96521739, -0.88623944],\n",
       "       [ 1.54956522, -0.35320417],\n",
       "       [ 0.21391304, -0.62642822],\n",
       "       [ 0.23478261, -0.22901143],\n",
       "       [-1.30956522, -1.64679583],\n",
       "       [-1.35130435, -1.26502732],\n",
       "       [-0.25565217, -0.52707402],\n",
       "       [-0.88173913, -1.03055142],\n",
       "       [-0.73565217,  0.01937407],\n",
       "       [-1.74782609, -2.24341778],\n",
       "       [-1.44521739, -2.24813711],\n",
       "       [-1.42434783, -1.83954297],\n",
       "       [-0.46434783, -1.07724789],\n",
       "       [-0.62086957,  0.56582216],\n",
       "       [-0.70434783, -1.52632886],\n",
       "       [-0.89217391, -1.41927471],\n",
       "       [-1.52869565, -1.86711376],\n",
       "       [-0.76695652, -0.80700447],\n",
       "       [-1.29913043, -2.58966716],\n",
       "       [ 1.67478261, -0.22901143],\n",
       "       [ 2.85391304, -1.03849975],\n",
       "       [ 2.88521739, -0.65126677],\n",
       "       [ 0.44347826,  0.29259811],\n",
       "       [ 1.3826087 , -0.27868852],\n",
       "       [ 1.33043478, -0.8715847 ],\n",
       "       [ 1.53913043,  0.8390462 ],\n",
       "       [ 1.53913043, -1.09860904],\n",
       "       [ 0.91304348,  0.54098361],\n",
       "       [ 0.49565217, -0.80029806],\n",
       "       [ 0.80869565, -0.22901143],\n",
       "       [ 1.64347826,  2.10581222],\n",
       "       [ 0.80869565,  0.19324391],\n",
       "       [ 1.12173913, -0.57675112],\n",
       "       [ 1.22608696, -0.12965723],\n",
       "       [ 1.43478261, -0.50223547],\n",
       "       [ 1.74782609,  1.48484848],\n",
       "       [ 1.17391304, -0.00546448],\n",
       "       [ 1.85217391, -0.15449578],\n",
       "       [ 1.85217391,  0.51614506],\n",
       "       [ 2.06086957,  0.6403378 ],\n",
       "       [ 1.69565217,  1.26130154],\n",
       "       [ 1.22608696,  1.28614009],\n",
       "       [ 1.95652174, -0.27868852],\n",
       "       [ 1.69565217,  0.66517635],\n",
       "       [ 3.        ,  2.8012916 ],\n",
       "       [ 1.74782609,  0.11872827],\n",
       "       [ 0.54782609,  0.81420765],\n",
       "       [ 1.3826087 ,  0.49130651],\n",
       "       [ 0.6       ,  1.21162444],\n",
       "       [ 0.23478261, -1.27347243],\n",
       "       [ 0.49565217,  0.11872827],\n",
       "       [ 1.33043478, -0.17933433],\n",
       "       [ 1.43478261,  2.70193741],\n",
       "       [ 0.70434783,  0.04421262],\n",
       "       [-0.13043478,  0.44162941],\n",
       "       [ 1.06956522,  1.63387978],\n",
       "       [ 1.43478261,  0.46646796],\n",
       "       [ 1.75826087,  2.40387481],\n",
       "       [ 2.37391304,  3.        ],\n",
       "       [ 0.91304348,  1.38549429],\n",
       "       [ 0.81913043, -0.20417288],\n",
       "       [ 0.10956522, -1.73919523],\n",
       "       [ 0.99652174,  0.01937407],\n",
       "       [ 1.63304348,  1.88226528],\n",
       "       [ 1.69565217,  1.88226528]])"
      ]
     },
     "execution_count": 47,
     "metadata": {},
     "output_type": "execute_result"
    }
   ],
   "source": [
    "wcatdata = scaler.fit_transform(mm)\n",
    "wcatdata"
   ]
  },
  {
   "cell_type": "code",
   "execution_count": 48,
   "id": "118b7ea7",
   "metadata": {},
   "outputs": [
    {
     "data": {
      "image/png": "[encoded data removed]",
      "text/plain": [
       "<Figure size 640x480 with 1 Axes>"
      ]
     },
     "metadata": {},
     "output_type": "display_data"
    }
   ],
   "source": [
    "from scipy.stats import norm\n",
    "# x-axis ranges from -3 and 3 with .001 steps\n",
    "# plot normal distribution with mean 0 and standard deviation 1\n",
    "\n",
    "plt.plot(wcatdata, norm.pdf(wcatdata,0,1))\n",
    "plt.show()"
   ]
  },
  {
   "cell_type": "markdown",
   "id": "820973cb",
   "metadata": {},
   "source": [
    "# Q24"
   ]
  },
  {
   "cell_type": "code",
   "execution_count": 49,
   "id": "4cc58556",
   "metadata": {},
   "outputs": [
    {
     "name": "stdout",
     "output_type": "stream",
     "text": [
      "t-statistic: -0.4714\n",
      "p-value: 0.3217\n"
     ]
    }
   ],
   "source": [
    "from scipy import stats\n",
    "\n",
    "# sample size\n",
    "n = 18\n",
    "\n",
    "# sample mean\n",
    "xbar = 260\n",
    "\n",
    "# population mean\n",
    "mu = 270\n",
    "\n",
    "# sample standard deviation\n",
    "s = 90\n",
    "\n",
    "# calculate t-statistic\n",
    "t = (xbar - mu) / (s / (n ** 0.5))\n",
    "\n",
    "# calculate degrees of freedom\n",
    "df = n - 1\n",
    "\n",
    "# calculate p-value\n",
    "p = stats.t.cdf(t, df)\n",
    "\n",
    "print(f\"t-statistic: {t:.4f}\")\n",
    "print(f\"p-value: {p:.4f}\")"
   ]
  },
  {
   "cell_type": "code",
   "execution_count": null,
   "id": "e79ca927",
   "metadata": {},
   "outputs": [],
   "source": []
  }
 ],
 "metadata": {
  "kernelspec": {
   "display_name": "Python 3 (ipykernel)",
   "language": "python",
   "name": "python3"
  },
  "language_info": {
   "codemirror_mode": {
    "name": "ipython",
    "version": 3
   },
   "file_extension": ".py",
   "mimetype": "text/x-python",
   "name": "python",
   "nbconvert_exporter": "python",
   "pygments_lexer": "ipython3",
   "version": "3.11.3"
  }
 },
 "nbformat": 4,
 "nbformat_minor": 5
}
